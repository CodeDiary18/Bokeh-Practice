{
 "cells": [
  {
   "cell_type": "markdown",
   "id": "7f957409",
   "metadata": {},
   "source": [
    "# First steps 2 : Adding and customizing renders"
   ]
  },
  {
   "cell_type": "markdown",
   "id": "c7b989cb",
   "metadata": {},
   "source": [
    "## Rendering different glyphs"
   ]
  },
  {
   "cell_type": "markdown",
   "id": "0309759c",
   "metadata": {},
   "source": [
    "### - Rendering circles"
   ]
  },
  {
   "cell_type": "code",
   "execution_count": 1,
   "id": "6f1d99bd",
   "metadata": {},
   "outputs": [],
   "source": [
    "from bokeh.plotting import figure, show\n",
    "from bokeh.io import output_file"
   ]
  },
  {
   "cell_type": "code",
   "execution_count": 2,
   "id": "d0dc6197",
   "metadata": {},
   "outputs": [],
   "source": [
    "output_file('data/rendering_circles.html')"
   ]
  },
  {
   "cell_type": "code",
   "execution_count": 3,
   "id": "d9386c9f",
   "metadata": {},
   "outputs": [],
   "source": [
    "# prepare some data\n",
    "x = [1, 2, 3, 4, 5]\n",
    "y1 = [6, 7, 2, 4, 5]\n",
    "y2 = [2, 3, 4, 5, 6]\n",
    "y3 = [4, 5, 5, 7, 2]"
   ]
  },
  {
   "cell_type": "code",
   "execution_count": 4,
   "id": "58239e97",
   "metadata": {},
   "outputs": [],
   "source": [
    "# create a new plot with a title and axis labels\n",
    "p = figure(title=\"Multiple glyphs example\", x_axis_label=\"x\", y_axis_label=\"y\")"
   ]
  },
  {
   "cell_type": "code",
   "execution_count": 5,
   "id": "c540a113",
   "metadata": {},
   "outputs": [
    {
     "data": {
      "text/html": [
       "<div style=\"display: table;\"><div style=\"display: table-row;\"><div style=\"display: table-cell;\"><b title=\"bokeh.models.renderers.GlyphRenderer\">GlyphRenderer</b>(</div><div style=\"display: table-cell;\">id&nbsp;=&nbsp;'1073', <span id=\"1091\" style=\"cursor: pointer;\">&hellip;)</span></div></div><div class=\"1090\" style=\"display: none;\"><div style=\"display: table-cell;\"></div><div style=\"display: table-cell;\">data_source&nbsp;=&nbsp;ColumnDataSource(id='1070', ...),</div></div><div class=\"1090\" style=\"display: none;\"><div style=\"display: table-cell;\"></div><div style=\"display: table-cell;\">glyph&nbsp;=&nbsp;Circle(id='1071', ...),</div></div><div class=\"1090\" style=\"display: none;\"><div style=\"display: table-cell;\"></div><div style=\"display: table-cell;\">hover_glyph&nbsp;=&nbsp;None,</div></div><div class=\"1090\" style=\"display: none;\"><div style=\"display: table-cell;\"></div><div style=\"display: table-cell;\">js_event_callbacks&nbsp;=&nbsp;{},</div></div><div class=\"1090\" style=\"display: none;\"><div style=\"display: table-cell;\"></div><div style=\"display: table-cell;\">js_property_callbacks&nbsp;=&nbsp;{},</div></div><div class=\"1090\" style=\"display: none;\"><div style=\"display: table-cell;\"></div><div style=\"display: table-cell;\">level&nbsp;=&nbsp;'glyph',</div></div><div class=\"1090\" style=\"display: none;\"><div style=\"display: table-cell;\"></div><div style=\"display: table-cell;\">muted&nbsp;=&nbsp;False,</div></div><div class=\"1090\" style=\"display: none;\"><div style=\"display: table-cell;\"></div><div style=\"display: table-cell;\">muted_glyph&nbsp;=&nbsp;None,</div></div><div class=\"1090\" style=\"display: none;\"><div style=\"display: table-cell;\"></div><div style=\"display: table-cell;\">name&nbsp;=&nbsp;None,</div></div><div class=\"1090\" style=\"display: none;\"><div style=\"display: table-cell;\"></div><div style=\"display: table-cell;\">nonselection_glyph&nbsp;=&nbsp;Circle(id='1072', ...),</div></div><div class=\"1090\" style=\"display: none;\"><div style=\"display: table-cell;\"></div><div style=\"display: table-cell;\">selection_glyph&nbsp;=&nbsp;'auto',</div></div><div class=\"1090\" style=\"display: none;\"><div style=\"display: table-cell;\"></div><div style=\"display: table-cell;\">subscribed_events&nbsp;=&nbsp;[],</div></div><div class=\"1090\" style=\"display: none;\"><div style=\"display: table-cell;\"></div><div style=\"display: table-cell;\">syncable&nbsp;=&nbsp;True,</div></div><div class=\"1090\" style=\"display: none;\"><div style=\"display: table-cell;\"></div><div style=\"display: table-cell;\">tags&nbsp;=&nbsp;[],</div></div><div class=\"1090\" style=\"display: none;\"><div style=\"display: table-cell;\"></div><div style=\"display: table-cell;\">view&nbsp;=&nbsp;CDSView(id='1074', ...),</div></div><div class=\"1090\" style=\"display: none;\"><div style=\"display: table-cell;\"></div><div style=\"display: table-cell;\">visible&nbsp;=&nbsp;True,</div></div><div class=\"1090\" style=\"display: none;\"><div style=\"display: table-cell;\"></div><div style=\"display: table-cell;\">x_range_name&nbsp;=&nbsp;'default',</div></div><div class=\"1090\" style=\"display: none;\"><div style=\"display: table-cell;\"></div><div style=\"display: table-cell;\">y_range_name&nbsp;=&nbsp;'default')</div></div></div>\n",
       "<script>\n",
       "(function() {\n",
       "  var expanded = false;\n",
       "  var ellipsis = document.getElementById(\"1091\");\n",
       "  ellipsis.addEventListener(\"click\", function() {\n",
       "    var rows = document.getElementsByClassName(\"1090\");\n",
       "    for (var i = 0; i < rows.length; i++) {\n",
       "      var el = rows[i];\n",
       "      el.style.display = expanded ? \"none\" : \"table-row\";\n",
       "    }\n",
       "    ellipsis.innerHTML = expanded ? \"&hellip;)\" : \"&lsaquo;&lsaquo;&lsaquo;\";\n",
       "    expanded = !expanded;\n",
       "  });\n",
       "})();\n",
       "</script>\n"
      ],
      "text/plain": [
       "GlyphRenderer(id='1073', ...)"
      ]
     },
     "execution_count": 5,
     "metadata": {},
     "output_type": "execute_result"
    }
   ],
   "source": [
    "# add multiple renderers\n",
    "p.line(x, y1, legend_label=\"Temp\", line_color=\"blue\", line_width=2)\n",
    "p.line(x, y2, legend_label=\"Rate\", line_color=\"red\", line_width=2)\n",
    "p.circle(x, y3, legend_label=\"Objects\", line_color=\"yellow\", size=12)"
   ]
  },
  {
   "cell_type": "markdown",
   "id": "0f88608d",
   "metadata": {},
   "source": [
    "- circle() : 원(점?) 그래프"
   ]
  },
  {
   "cell_type": "code",
   "execution_count": 6,
   "id": "9936c439",
   "metadata": {},
   "outputs": [],
   "source": [
    "# show the results\n",
    "show(p)"
   ]
  },
  {
   "cell_type": "markdown",
   "id": "3faae53d",
   "metadata": {},
   "source": [
    "### - Rendering bars"
   ]
  },
  {
   "cell_type": "code",
   "execution_count": 7,
   "id": "decd0472",
   "metadata": {},
   "outputs": [],
   "source": [
    "output_file('data/rendering_bars.html')"
   ]
  },
  {
   "cell_type": "code",
   "execution_count": 8,
   "id": "3f0c9c7d",
   "metadata": {},
   "outputs": [],
   "source": [
    "# prepare some data\n",
    "x = [1, 2, 3, 4, 5]\n",
    "y1 = [6, 7, 2, 4, 5]\n",
    "y2 = [2, 3, 4, 5, 6]\n",
    "y3 = [4, 5, 5, 7, 2]"
   ]
  },
  {
   "cell_type": "code",
   "execution_count": 9,
   "id": "3ce93b8b",
   "metadata": {},
   "outputs": [],
   "source": [
    "# create a new plot with a title and axis labels\n",
    "p = figure(title=\"Multiple glyphs example\", x_axis_label=\"x\", y_axis_label=\"y\")"
   ]
  },
  {
   "cell_type": "code",
   "execution_count": 10,
   "id": "89410fa7",
   "metadata": {},
   "outputs": [
    {
     "data": {
      "text/html": [
       "<div style=\"display: table;\"><div style=\"display: table-row;\"><div style=\"display: table-cell;\"><b title=\"bokeh.models.renderers.GlyphRenderer\">GlyphRenderer</b>(</div><div style=\"display: table-cell;\">id&nbsp;=&nbsp;'1304', <span id=\"1322\" style=\"cursor: pointer;\">&hellip;)</span></div></div><div class=\"1321\" style=\"display: none;\"><div style=\"display: table-cell;\"></div><div style=\"display: table-cell;\">data_source&nbsp;=&nbsp;ColumnDataSource(id='1301', ...),</div></div><div class=\"1321\" style=\"display: none;\"><div style=\"display: table-cell;\"></div><div style=\"display: table-cell;\">glyph&nbsp;=&nbsp;Circle(id='1302', ...),</div></div><div class=\"1321\" style=\"display: none;\"><div style=\"display: table-cell;\"></div><div style=\"display: table-cell;\">hover_glyph&nbsp;=&nbsp;None,</div></div><div class=\"1321\" style=\"display: none;\"><div style=\"display: table-cell;\"></div><div style=\"display: table-cell;\">js_event_callbacks&nbsp;=&nbsp;{},</div></div><div class=\"1321\" style=\"display: none;\"><div style=\"display: table-cell;\"></div><div style=\"display: table-cell;\">js_property_callbacks&nbsp;=&nbsp;{},</div></div><div class=\"1321\" style=\"display: none;\"><div style=\"display: table-cell;\"></div><div style=\"display: table-cell;\">level&nbsp;=&nbsp;'glyph',</div></div><div class=\"1321\" style=\"display: none;\"><div style=\"display: table-cell;\"></div><div style=\"display: table-cell;\">muted&nbsp;=&nbsp;False,</div></div><div class=\"1321\" style=\"display: none;\"><div style=\"display: table-cell;\"></div><div style=\"display: table-cell;\">muted_glyph&nbsp;=&nbsp;None,</div></div><div class=\"1321\" style=\"display: none;\"><div style=\"display: table-cell;\"></div><div style=\"display: table-cell;\">name&nbsp;=&nbsp;None,</div></div><div class=\"1321\" style=\"display: none;\"><div style=\"display: table-cell;\"></div><div style=\"display: table-cell;\">nonselection_glyph&nbsp;=&nbsp;Circle(id='1303', ...),</div></div><div class=\"1321\" style=\"display: none;\"><div style=\"display: table-cell;\"></div><div style=\"display: table-cell;\">selection_glyph&nbsp;=&nbsp;'auto',</div></div><div class=\"1321\" style=\"display: none;\"><div style=\"display: table-cell;\"></div><div style=\"display: table-cell;\">subscribed_events&nbsp;=&nbsp;[],</div></div><div class=\"1321\" style=\"display: none;\"><div style=\"display: table-cell;\"></div><div style=\"display: table-cell;\">syncable&nbsp;=&nbsp;True,</div></div><div class=\"1321\" style=\"display: none;\"><div style=\"display: table-cell;\"></div><div style=\"display: table-cell;\">tags&nbsp;=&nbsp;[],</div></div><div class=\"1321\" style=\"display: none;\"><div style=\"display: table-cell;\"></div><div style=\"display: table-cell;\">view&nbsp;=&nbsp;CDSView(id='1305', ...),</div></div><div class=\"1321\" style=\"display: none;\"><div style=\"display: table-cell;\"></div><div style=\"display: table-cell;\">visible&nbsp;=&nbsp;True,</div></div><div class=\"1321\" style=\"display: none;\"><div style=\"display: table-cell;\"></div><div style=\"display: table-cell;\">x_range_name&nbsp;=&nbsp;'default',</div></div><div class=\"1321\" style=\"display: none;\"><div style=\"display: table-cell;\"></div><div style=\"display: table-cell;\">y_range_name&nbsp;=&nbsp;'default')</div></div></div>\n",
       "<script>\n",
       "(function() {\n",
       "  var expanded = false;\n",
       "  var ellipsis = document.getElementById(\"1322\");\n",
       "  ellipsis.addEventListener(\"click\", function() {\n",
       "    var rows = document.getElementsByClassName(\"1321\");\n",
       "    for (var i = 0; i < rows.length; i++) {\n",
       "      var el = rows[i];\n",
       "      el.style.display = expanded ? \"none\" : \"table-row\";\n",
       "    }\n",
       "    ellipsis.innerHTML = expanded ? \"&hellip;)\" : \"&lsaquo;&lsaquo;&lsaquo;\";\n",
       "    expanded = !expanded;\n",
       "  });\n",
       "})();\n",
       "</script>\n"
      ],
      "text/plain": [
       "GlyphRenderer(id='1304', ...)"
      ]
     },
     "execution_count": 10,
     "metadata": {},
     "output_type": "execute_result"
    }
   ],
   "source": [
    "# add multiple renderers\n",
    "p.line(x, y1, legend_label=\"Temp.\", line_color=\"blue\", line_width=2)\n",
    "p.vbar(x=x, top=y2, legend_label=\"Rate\", width=0.5, bottom=0, color=\"red\")\n",
    "p.circle(x, y3, legend_label=\"Objects\", line_color=\"yellow\", size=12)"
   ]
  },
  {
   "cell_type": "markdown",
   "id": "e56ece33",
   "metadata": {},
   "source": [
    "- vbar() : 수직 막대 그래프"
   ]
  },
  {
   "cell_type": "code",
   "execution_count": 11,
   "id": "e10171b3",
   "metadata": {},
   "outputs": [],
   "source": [
    "# show the res- circle() : 원(점?) 그래프ults\n",
    "show(p)"
   ]
  },
  {
   "cell_type": "markdown",
   "id": "9dc2ff9a",
   "metadata": {},
   "source": [
    "## Customizing glyphs"
   ]
  },
  {
   "cell_type": "markdown",
   "id": "7cc65d58",
   "metadata": {},
   "source": [
    "### - Defining properties of new glyphs\n",
    "- circle() function\n",
    "    - fill_color : 원의 채우기 속성\n",
    "    - fill_alpha : 채우기 색상의 투명도(0과 1사이의 모든 값)\n",
    "    - line_color : 원 외곽선의 채우기 색상\n",
    "    - size : 원의 크기(화면 단위 또는 데이터 단위)\n",
    "    - legend_label : circle에 대한 범례 항목\n",
    "- Bokeh에서는 여러 가지 방법으로 색상을 지정할 수 있음\n",
    "    - [named CSS](https://www.w3.org/TR/css-color-4/#named-colors) 색상 중 하나 사용(ex. 'lightskyblue')\n",
    "    - 앞에 #이 붙은 16진 수 값 사용(ex. '#00ff00')\n",
    "    - RGB 색상에 3-tuple 사용(ex. (100, 100, 255)\n",
    "    - RGBA 색상에 4-tuple 사용(ex. (100, 100, 255, 0.5)"
   ]
  },
  {
   "cell_type": "code",
   "execution_count": 12,
   "id": "0c510229",
   "metadata": {},
   "outputs": [],
   "source": [
    "output_file('data/custom_glyphs_new.html')"
   ]
  },
  {
   "cell_type": "code",
   "execution_count": 13,
   "id": "f70736e6",
   "metadata": {},
   "outputs": [],
   "source": [
    "# prepare some data\n",
    "x = [1, 2, 3, 4, 5]\n",
    "y = [4, 5, 5, 7, 2]\n",
    "\n",
    "# create a new plot with a title and axis labels\n",
    "p = figure(title=\"Glyphs properties example\", x_axis_label=\"x\", y_axis_label=\"y\")"
   ]
  },
  {
   "cell_type": "code",
   "execution_count": 14,
   "id": "e42f22ae",
   "metadata": {},
   "outputs": [
    {
     "data": {
      "text/html": [
       "<div style=\"display: table;\"><div style=\"display: table-row;\"><div style=\"display: table-cell;\"><b title=\"bokeh.models.renderers.GlyphRenderer\">GlyphRenderer</b>(</div><div style=\"display: table-cell;\">id&nbsp;=&nbsp;'1500', <span id=\"1515\" style=\"cursor: pointer;\">&hellip;)</span></div></div><div class=\"1514\" style=\"display: none;\"><div style=\"display: table-cell;\"></div><div style=\"display: table-cell;\">data_source&nbsp;=&nbsp;ColumnDataSource(id='1497', ...),</div></div><div class=\"1514\" style=\"display: none;\"><div style=\"display: table-cell;\"></div><div style=\"display: table-cell;\">glyph&nbsp;=&nbsp;Circle(id='1498', ...),</div></div><div class=\"1514\" style=\"display: none;\"><div style=\"display: table-cell;\"></div><div style=\"display: table-cell;\">hover_glyph&nbsp;=&nbsp;None,</div></div><div class=\"1514\" style=\"display: none;\"><div style=\"display: table-cell;\"></div><div style=\"display: table-cell;\">js_event_callbacks&nbsp;=&nbsp;{},</div></div><div class=\"1514\" style=\"display: none;\"><div style=\"display: table-cell;\"></div><div style=\"display: table-cell;\">js_property_callbacks&nbsp;=&nbsp;{},</div></div><div class=\"1514\" style=\"display: none;\"><div style=\"display: table-cell;\"></div><div style=\"display: table-cell;\">level&nbsp;=&nbsp;'glyph',</div></div><div class=\"1514\" style=\"display: none;\"><div style=\"display: table-cell;\"></div><div style=\"display: table-cell;\">muted&nbsp;=&nbsp;False,</div></div><div class=\"1514\" style=\"display: none;\"><div style=\"display: table-cell;\"></div><div style=\"display: table-cell;\">muted_glyph&nbsp;=&nbsp;None,</div></div><div class=\"1514\" style=\"display: none;\"><div style=\"display: table-cell;\"></div><div style=\"display: table-cell;\">name&nbsp;=&nbsp;None,</div></div><div class=\"1514\" style=\"display: none;\"><div style=\"display: table-cell;\"></div><div style=\"display: table-cell;\">nonselection_glyph&nbsp;=&nbsp;Circle(id='1499', ...),</div></div><div class=\"1514\" style=\"display: none;\"><div style=\"display: table-cell;\"></div><div style=\"display: table-cell;\">selection_glyph&nbsp;=&nbsp;'auto',</div></div><div class=\"1514\" style=\"display: none;\"><div style=\"display: table-cell;\"></div><div style=\"display: table-cell;\">subscribed_events&nbsp;=&nbsp;[],</div></div><div class=\"1514\" style=\"display: none;\"><div style=\"display: table-cell;\"></div><div style=\"display: table-cell;\">syncable&nbsp;=&nbsp;True,</div></div><div class=\"1514\" style=\"display: none;\"><div style=\"display: table-cell;\"></div><div style=\"display: table-cell;\">tags&nbsp;=&nbsp;[],</div></div><div class=\"1514\" style=\"display: none;\"><div style=\"display: table-cell;\"></div><div style=\"display: table-cell;\">view&nbsp;=&nbsp;CDSView(id='1501', ...),</div></div><div class=\"1514\" style=\"display: none;\"><div style=\"display: table-cell;\"></div><div style=\"display: table-cell;\">visible&nbsp;=&nbsp;True,</div></div><div class=\"1514\" style=\"display: none;\"><div style=\"display: table-cell;\"></div><div style=\"display: table-cell;\">x_range_name&nbsp;=&nbsp;'default',</div></div><div class=\"1514\" style=\"display: none;\"><div style=\"display: table-cell;\"></div><div style=\"display: table-cell;\">y_range_name&nbsp;=&nbsp;'default')</div></div></div>\n",
       "<script>\n",
       "(function() {\n",
       "  var expanded = false;\n",
       "  var ellipsis = document.getElementById(\"1515\");\n",
       "  ellipsis.addEventListener(\"click\", function() {\n",
       "    var rows = document.getElementsByClassName(\"1514\");\n",
       "    for (var i = 0; i < rows.length; i++) {\n",
       "      var el = rows[i];\n",
       "      el.style.display = expanded ? \"none\" : \"table-row\";\n",
       "    }\n",
       "    ellipsis.innerHTML = expanded ? \"&hellip;)\" : \"&lsaquo;&lsaquo;&lsaquo;\";\n",
       "    expanded = !expanded;\n",
       "  });\n",
       "})();\n",
       "</script>\n"
      ],
      "text/plain": [
       "GlyphRenderer(id='1500', ...)"
      ]
     },
     "execution_count": 14,
     "metadata": {},
     "output_type": "execute_result"
    }
   ],
   "source": [
    "# add circle renderer with additional arguments\n",
    "p.circle(\n",
    "    x,\n",
    "    y,\n",
    "    legend_label=\"Objects\",\n",
    "    fill_color=\"red\",  # 원 채우기 색\n",
    "    fill_alpha=0.5,    # 투명도\n",
    "    line_color=\"blue\", # 윤곽선 색\n",
    "    size=80,           # 원 크기\n",
    ")"
   ]
  },
  {
   "cell_type": "markdown",
   "id": "8611692a",
   "metadata": {},
   "source": [
    "범례 label이 \"Objects\"인 원을 만든다. 원의 색은 빨간색, 윤곽선은 파란색 그리고 원을 약간 투명하게 만든다."
   ]
  },
  {
   "cell_type": "code",
   "execution_count": 15,
   "id": "10a2f14d",
   "metadata": {},
   "outputs": [],
   "source": [
    "# show the results\n",
    "show(p)"
   ]
  },
  {
   "cell_type": "markdown",
   "id": "9222c214",
   "metadata": {},
   "source": [
    "### - Altering properties of existing glyphs\n",
    "- 객체를 생성한 후 속성을 변경하려는 경우 객체의 속성을 직접 정의하고 덮어쓸 수 있음"
   ]
  },
  {
   "cell_type": "code",
   "execution_count": 16,
   "id": "a1777ab4",
   "metadata": {},
   "outputs": [],
   "source": [
    "output_file('data/custom_glyphs_alter.html')"
   ]
  },
  {
   "cell_type": "code",
   "execution_count": 17,
   "id": "8c210c8d",
   "metadata": {},
   "outputs": [],
   "source": [
    "# prepare some data\n",
    "x = [1, 2, 3, 4, 5]\n",
    "y = [4, 5, 5, 7, 2]\n",
    "\n",
    "# create a new plot with a title and axis labels\n",
    "p = figure(title=\"Glyphs properties example\", x_axis_label=\"x\", y_axis_label=\"y\")"
   ]
  },
  {
   "cell_type": "code",
   "execution_count": 18,
   "id": "b86c59d7",
   "metadata": {},
   "outputs": [],
   "source": [
    "# add circle renderer with additional arguments\n",
    "circle = p.circle(\n",
    "    x,\n",
    "    y,\n",
    "    legend_label=\"Objects\",\n",
    "    fill_color=\"red\",\n",
    "    fill_alpha=0.5,\n",
    "    line_color=\"blue\",\n",
    "    size=80,\n",
    ")"
   ]
  },
  {
   "cell_type": "markdown",
   "id": "8c696170",
   "metadata": {},
   "source": [
    "- 원의 색상을 빨간색에서 파란색으로 변경하려면 먼저 circle() 함수를 호출할 때, 새로운 변수에 할당한다."
   ]
  },
  {
   "cell_type": "code",
   "execution_count": 19,
   "id": "bcaec1a7",
   "metadata": {},
   "outputs": [],
   "source": [
    "# change color of previously created object's glyph\n",
    "glyph = circle.glyph\n",
    "glyph.fill_color = \"blue\""
   ]
  },
  {
   "cell_type": "markdown",
   "id": "d68856da",
   "metadata": {},
   "source": [
    "- 그런 다음 해당 변수를 사용하여 개체의 glyph 속성에 엑세스하고 속성을 변경한다."
   ]
  },
  {
   "cell_type": "code",
   "execution_count": 20,
   "id": "12106432",
   "metadata": {},
   "outputs": [],
   "source": [
    "# show the results\n",
    "show(p)"
   ]
  }
 ],
 "metadata": {
  "kernelspec": {
   "display_name": "Python 3",
   "language": "python",
   "name": "python3"
  },
  "language_info": {
   "codemirror_mode": {
    "name": "ipython",
    "version": 3
   },
   "file_extension": ".py",
   "mimetype": "text/x-python",
   "name": "python",
   "nbconvert_exporter": "python",
   "pygments_lexer": "ipython3",
   "version": "3.8.8"
  }
 },
 "nbformat": 4,
 "nbformat_minor": 5
}
