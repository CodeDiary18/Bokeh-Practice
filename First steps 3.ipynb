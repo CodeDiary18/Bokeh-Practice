{
 "cells": [
  {
   "cell_type": "markdown",
   "id": "7f957409",
   "metadata": {},
   "source": [
    "# First steps 3 : Adding legends, text, and annotations"
   ]
  },
  {
   "cell_type": "markdown",
   "id": "c7b989cb",
   "metadata": {},
   "source": [
    "## Adding and styling a legend"
   ]
  },
  {
   "cell_type": "code",
   "execution_count": 1,
   "id": "6f1d99bd",
   "metadata": {},
   "outputs": [],
   "source": [
    "from bokeh.plotting import figure, show\n",
    "from bokeh.io import output_file"
   ]
  },
  {
   "cell_type": "code",
   "execution_count": 2,
   "id": "d0dc6197",
   "metadata": {},
   "outputs": [],
   "source": [
    "output_file('data/styling_legend.html')"
   ]
  },
  {
   "cell_type": "code",
   "execution_count": 3,
   "id": "d9386c9f",
   "metadata": {},
   "outputs": [],
   "source": [
    "# prepare some data\n",
    "x = [1, 2, 3, 4, 5]\n",
    "y1 = [4, 5, 5, 7, 2]\n",
    "y2 = [2, 3, 4, 5, 6]"
   ]
  },
  {
   "cell_type": "code",
   "execution_count": 4,
   "id": "58239e97",
   "metadata": {},
   "outputs": [],
   "source": [
    "# create a new plot\n",
    "p = figure(title=\"Legend example\")"
   ]
  },
  {
   "cell_type": "code",
   "execution_count": 5,
   "id": "c540a113",
   "metadata": {},
   "outputs": [],
   "source": [
    "# add circle renderer with legend_label arguments\n",
    "line = p.line(x, y1, legend_label=\"Temp.\", line_color=\"blue\", line_width=2)\n",
    "circle = p.circle(\n",
    "    x,\n",
    "    y2,\n",
    "    legend_label=\"Objects\", # legend label\n",
    "    fill_color=\"red\",\n",
    "    fill_alpha=0.5,\n",
    "    line_color=\"blue\",\n",
    "    size=80,\n",
    ")"
   ]
  },
  {
   "cell_type": "markdown",
   "id": "cc02b493",
   "metadata": {},
   "source": [
    "- legend_label : plot에 자동으로 범례를 추가"
   ]
  },
  {
   "cell_type": "code",
   "execution_count": 6,
   "id": "674d82a2",
   "metadata": {},
   "outputs": [],
   "source": [
    "# display legend in top left corner (default is top right corner)\n",
    "p.legend.location = \"top_left\"\n",
    "\n",
    "# add a title to your legend\n",
    "p.legend.title = \"Obervations\"\n",
    "\n",
    "# change appearance of legend text\n",
    "p.legend.label_text_font = \"times\"\n",
    "p.legend.label_text_font_style = \"italic\"\n",
    "p.legend.label_text_color = \"navy\"\n",
    "\n",
    "# change border and background of legend\n",
    "p.legend.border_line_width = 3\n",
    "p.legend.border_line_color = \"navy\"\n",
    "p.legend.border_line_alpha = 0.8\n",
    "p.legend.background_fill_color = \"navy\"\n",
    "p.legend.background_fill_alpha = 0.2"
   ]
  },
  {
   "cell_type": "markdown",
   "id": "e04a9a92",
   "metadata": {},
   "source": [
    "- legend 개체의 속성을 사용하여 범례 옵션을 설정\n",
    "    - legend.location : 범례 위치 지정\n",
    "    - legend.title : 범례 제목\n",
    "    - legend.label_text_{font, font_style, color} : 범례 text 관련 설정\n",
    "    - legend.border_line_{width, color, alpha} : 범례 테두리 관련 설정\n",
    "    - legend.background_fill_{color, alpha} : 범례 배경 관련 설정\n",
    "- legend 참고\n",
    "    - [Legends](https://docs.bokeh.org/en/latest/docs/user_guide/annotations.html#userguide-annotations-legends)\n",
    "    - [Styling legends](https://docs.bokeh.org/en/latest/docs/user_guide/styling.html#userguide-styling-legends)\n",
    "    - entry [Legend](https://docs.bokeh.org/en/latest/docs/reference/models/annotations.html#bokeh.models.Legend)"
   ]
  },
  {
   "cell_type": "code",
   "execution_count": 7,
   "id": "9936c439",
   "metadata": {},
   "outputs": [],
   "source": [
    "# show the results\n",
    "show(p)"
   ]
  },
  {
   "cell_type": "markdown",
   "id": "e59ebdc2",
   "metadata": {},
   "source": [
    "## Customizing headlines"
   ]
  },
  {
   "cell_type": "code",
   "execution_count": 8,
   "id": "d0dc6197",
   "metadata": {},
   "outputs": [],
   "source": [
    "output_file('data/styling_title.html')"
   ]
  },
  {
   "cell_type": "code",
   "execution_count": 9,
   "id": "ecc4a4a7",
   "metadata": {},
   "outputs": [],
   "source": [
    "# prepare some data\n",
    "x = [1, 2, 3, 4, 5]\n",
    "y = [6, 7, 2, 4, 5]"
   ]
  },
  {
   "cell_type": "code",
   "execution_count": 10,
   "id": "6b64e887",
   "metadata": {},
   "outputs": [],
   "source": [
    "# create new plot\n",
    "p = figure(title=\"Headline example\")"
   ]
  },
  {
   "cell_type": "code",
   "execution_count": 11,
   "id": "118e1ffc",
   "metadata": {},
   "outputs": [
    {
     "data": {
      "text/html": [
       "<div style=\"display: table;\"><div style=\"display: table-row;\"><div style=\"display: table-cell;\"><b title=\"bokeh.models.renderers.GlyphRenderer\">GlyphRenderer</b>(</div><div style=\"display: table-cell;\">id&nbsp;=&nbsp;'1038', <span id=\"1053\" style=\"cursor: pointer;\">&hellip;)</span></div></div><div class=\"1052\" style=\"display: none;\"><div style=\"display: table-cell;\"></div><div style=\"display: table-cell;\">data_source&nbsp;=&nbsp;ColumnDataSource(id='1035', ...),</div></div><div class=\"1052\" style=\"display: none;\"><div style=\"display: table-cell;\"></div><div style=\"display: table-cell;\">glyph&nbsp;=&nbsp;Line(id='1036', ...),</div></div><div class=\"1052\" style=\"display: none;\"><div style=\"display: table-cell;\"></div><div style=\"display: table-cell;\">hover_glyph&nbsp;=&nbsp;None,</div></div><div class=\"1052\" style=\"display: none;\"><div style=\"display: table-cell;\"></div><div style=\"display: table-cell;\">js_event_callbacks&nbsp;=&nbsp;{},</div></div><div class=\"1052\" style=\"display: none;\"><div style=\"display: table-cell;\"></div><div style=\"display: table-cell;\">js_property_callbacks&nbsp;=&nbsp;{},</div></div><div class=\"1052\" style=\"display: none;\"><div style=\"display: table-cell;\"></div><div style=\"display: table-cell;\">level&nbsp;=&nbsp;'glyph',</div></div><div class=\"1052\" style=\"display: none;\"><div style=\"display: table-cell;\"></div><div style=\"display: table-cell;\">muted&nbsp;=&nbsp;False,</div></div><div class=\"1052\" style=\"display: none;\"><div style=\"display: table-cell;\"></div><div style=\"display: table-cell;\">muted_glyph&nbsp;=&nbsp;None,</div></div><div class=\"1052\" style=\"display: none;\"><div style=\"display: table-cell;\"></div><div style=\"display: table-cell;\">name&nbsp;=&nbsp;None,</div></div><div class=\"1052\" style=\"display: none;\"><div style=\"display: table-cell;\"></div><div style=\"display: table-cell;\">nonselection_glyph&nbsp;=&nbsp;Line(id='1037', ...),</div></div><div class=\"1052\" style=\"display: none;\"><div style=\"display: table-cell;\"></div><div style=\"display: table-cell;\">selection_glyph&nbsp;=&nbsp;'auto',</div></div><div class=\"1052\" style=\"display: none;\"><div style=\"display: table-cell;\"></div><div style=\"display: table-cell;\">subscribed_events&nbsp;=&nbsp;[],</div></div><div class=\"1052\" style=\"display: none;\"><div style=\"display: table-cell;\"></div><div style=\"display: table-cell;\">syncable&nbsp;=&nbsp;True,</div></div><div class=\"1052\" style=\"display: none;\"><div style=\"display: table-cell;\"></div><div style=\"display: table-cell;\">tags&nbsp;=&nbsp;[],</div></div><div class=\"1052\" style=\"display: none;\"><div style=\"display: table-cell;\"></div><div style=\"display: table-cell;\">view&nbsp;=&nbsp;CDSView(id='1039', ...),</div></div><div class=\"1052\" style=\"display: none;\"><div style=\"display: table-cell;\"></div><div style=\"display: table-cell;\">visible&nbsp;=&nbsp;True,</div></div><div class=\"1052\" style=\"display: none;\"><div style=\"display: table-cell;\"></div><div style=\"display: table-cell;\">x_range_name&nbsp;=&nbsp;'default',</div></div><div class=\"1052\" style=\"display: none;\"><div style=\"display: table-cell;\"></div><div style=\"display: table-cell;\">y_range_name&nbsp;=&nbsp;'default')</div></div></div>\n",
       "<script>\n",
       "(function() {\n",
       "  var expanded = false;\n",
       "  var ellipsis = document.getElementById(\"1053\");\n",
       "  ellipsis.addEventListener(\"click\", function() {\n",
       "    var rows = document.getElementsByClassName(\"1052\");\n",
       "    for (var i = 0; i < rows.length; i++) {\n",
       "      var el = rows[i];\n",
       "      el.style.display = expanded ? \"none\" : \"table-row\";\n",
       "    }\n",
       "    ellipsis.innerHTML = expanded ? \"&hellip;)\" : \"&lsaquo;&lsaquo;&lsaquo;\";\n",
       "    expanded = !expanded;\n",
       "  });\n",
       "})();\n",
       "</script>\n"
      ],
      "text/plain": [
       "GlyphRenderer(id='1038', ...)"
      ]
     },
     "execution_count": 11,
     "metadata": {},
     "output_type": "execute_result"
    }
   ],
   "source": [
    "# add line renderer with a legend\n",
    "p.line(x, y, legend_label=\"Temp.\", line_width=2)"
   ]
  },
  {
   "cell_type": "code",
   "execution_count": 12,
   "id": "00343b1c",
   "metadata": {},
   "outputs": [],
   "source": [
    "# change headline location to the left\n",
    "p.title_location = \"left\"\n",
    "\n",
    "# change headline text\n",
    "p.title.text = \"Changing headline text example\"\n",
    "\n",
    "# style the headline\n",
    "p.title.text_font_size = \"25px\"\n",
    "p.title.align = \"right\"\n",
    "p.title.background_fill_color = \"darkgrey\"\n",
    "p.title.text_color = \"white\""
   ]
  },
  {
   "cell_type": "markdown",
   "id": "88256033",
   "metadata": {},
   "source": [
    "- title 개체의 속성을 사용하여 제목 옵션을 설정\n",
    "    - title_location : 제목 위치\n",
    "    - title.text : 제목 내용\n",
    "    - title.text_font_size : 제목 text 크기\n",
    "    - title.algin : 제목 정렬\n",
    "    - title.background_fill_color : 제목 배경색\n",
    "    - title.text_color : 제목 text 색"
   ]
  },
  {
   "cell_type": "code",
   "execution_count": 13,
   "id": "0340c9a2",
   "metadata": {},
   "outputs": [],
   "source": [
    "# show the results\n",
    "show(p)"
   ]
  }
 ],
 "metadata": {
  "kernelspec": {
   "display_name": "Python 3",
   "language": "python",
   "name": "python3"
  },
  "language_info": {
   "codemirror_mode": {
    "name": "ipython",
    "version": 3
   },
   "file_extension": ".py",
   "mimetype": "text/x-python",
   "name": "python",
   "nbconvert_exporter": "python",
   "pygments_lexer": "ipython3",
   "version": "3.8.8"
  }
 },
 "nbformat": 4,
 "nbformat_minor": 5
}
