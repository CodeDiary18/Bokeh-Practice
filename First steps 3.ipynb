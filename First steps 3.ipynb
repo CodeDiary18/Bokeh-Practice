{
 "cells": [
  {
   "cell_type": "markdown",
   "id": "7f957409",
   "metadata": {},
   "source": [
    "# First steps 3 : Adding legends, text, and annotations"
   ]
  },
  {
   "cell_type": "markdown",
   "id": "c7b989cb",
   "metadata": {},
   "source": [
    "## Adding and styling a legend"
   ]
  },
  {
   "cell_type": "code",
   "execution_count": 1,
   "id": "6f1d99bd",
   "metadata": {},
   "outputs": [],
   "source": [
    "from bokeh.plotting import figure, show\n",
    "from bokeh.io import output_file"
   ]
  },
  {
   "cell_type": "code",
   "execution_count": 2,
   "id": "d0dc6197",
   "metadata": {},
   "outputs": [],
   "source": [
    "output_file('data/styling_legend.html')"
   ]
  },
  {
   "cell_type": "code",
   "execution_count": 3,
   "id": "d9386c9f",
   "metadata": {},
   "outputs": [],
   "source": [
    "# prepare some data\n",
    "x = [1, 2, 3, 4, 5]\n",
    "y1 = [4, 5, 5, 7, 2]\n",
    "y2 = [2, 3, 4, 5, 6]"
   ]
  },
  {
   "cell_type": "code",
   "execution_count": 4,
   "id": "58239e97",
   "metadata": {},
   "outputs": [],
   "source": [
    "# create a new plot\n",
    "p = figure(title=\"Legend example\")"
   ]
  },
  {
   "cell_type": "code",
   "execution_count": 5,
   "id": "c540a113",
   "metadata": {},
   "outputs": [],
   "source": [
    "# add circle renderer with legend_label arguments\n",
    "line = p.line(x, y1, legend_label=\"Temp.\", line_color=\"blue\", line_width=2)\n",
    "circle = p.circle(\n",
    "    x,\n",
    "    y2,\n",
    "    legend_label=\"Objects\", # legend label\n",
    "    fill_color=\"red\",\n",
    "    fill_alpha=0.5,\n",
    "    line_color=\"blue\",\n",
    "    size=80,\n",
    ")"
   ]
  },
  {
   "cell_type": "markdown",
   "id": "cc02b493",
   "metadata": {},
   "source": [
    "- legend_label : plot에 자동으로 범례를 추가"
   ]
  },
  {
   "cell_type": "code",
   "execution_count": 6,
   "id": "674d82a2",
   "metadata": {},
   "outputs": [],
   "source": [
    "# display legend in top left corner (default is top right corner)\n",
    "p.legend.location = \"top_left\"\n",
    "\n",
    "# add a title to your legend\n",
    "p.legend.title = \"Obervations\"\n",
    "\n",
    "# change appearance of legend text\n",
    "p.legend.label_text_font = \"times\"\n",
    "p.legend.label_text_font_style = \"italic\"\n",
    "p.legend.label_text_color = \"navy\"\n",
    "\n",
    "# change border and background of legend\n",
    "p.legend.border_line_width = 3\n",
    "p.legend.border_line_color = \"navy\"\n",
    "p.legend.border_line_alpha = 0.8\n",
    "p.legend.background_fill_color = \"navy\"\n",
    "p.legend.background_fill_alpha = 0.2"
   ]
  },
  {
   "cell_type": "markdown",
   "id": "e04a9a92",
   "metadata": {},
   "source": [
    "- legend 개체의 속성을 사용하여 범례 옵션을 설정\n",
    "    - legend.location : 범례 위치 지정\n",
    "    - legend.title : 범례 제목\n",
    "    - legend.label_text_{font, font_style, color} : 범례 text 관련 설정\n",
    "    - legend.border_line_{width, color, alpha} : 범례 테두리 관련 설정\n",
    "    - legend.background_fill_{color, alpha} : 범례 배경 관련 설정\n",
    "- legend 참고\n",
    "    - [Legends](https://docs.bokeh.org/en/latest/docs/user_guide/annotations.html#userguide-annotations-legends)\n",
    "    - [Styling legends](https://docs.bokeh.org/en/latest/docs/user_guide/styling.html#userguide-styling-legends)\n",
    "    - entry [Legend](https://docs.bokeh.org/en/latest/docs/reference/models/annotations.html#bokeh.models.Legend)"
   ]
  },
  {
   "cell_type": "code",
   "execution_count": 7,
   "id": "9936c439",
   "metadata": {},
   "outputs": [],
   "source": [
    "# show the results\n",
    "show(p)"
   ]
  }
 ],
 "metadata": {
  "kernelspec": {
   "display_name": "Python 3",
   "language": "python",
   "name": "python3"
  },
  "language_info": {
   "codemirror_mode": {
    "name": "ipython",
    "version": 3
   },
   "file_extension": ".py",
   "mimetype": "text/x-python",
   "name": "python",
   "nbconvert_exporter": "python",
   "pygments_lexer": "ipython3",
   "version": "3.8.8"
  }
 },
 "nbformat": 4,
 "nbformat_minor": 5
}
